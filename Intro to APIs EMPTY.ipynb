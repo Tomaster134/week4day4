{
 "cells": [
  {
   "cell_type": "markdown",
   "id": "7196054f",
   "metadata": {},
   "source": [
    "# Working with APIs"
   ]
  },
  {
   "cell_type": "markdown",
   "id": "0547b71e",
   "metadata": {},
   "source": [
    "API stands for Application programming interface<br>\n",
    "APIs are a way for applications to talk to eachother<br>\n",
    "In python we use the requests package to handle the connection<br>\n",
    "<small><strong>Note: It is requests with an s not request(this is a different package)</strong></small><br>\n",
    "Most API's communicate with data in the form of JSON<br>\n",
    "JSON stands for JavaScript Object Notation"
   ]
  },
  {
   "attachments": {},
   "cell_type": "markdown",
   "id": "cc80a1f0",
   "metadata": {},
   "source": [
    "### importing requests module"
   ]
  },
  {
   "cell_type": "code",
   "execution_count": null,
   "id": "4db9d154",
   "metadata": {},
   "outputs": [],
   "source": [
    "import requests"
   ]
  },
  {
   "cell_type": "markdown",
   "id": "e8c2ce51",
   "metadata": {},
   "source": [
    "We will be connecting to the Ergast F1 Racer API today:\n",
    "http://ergast.com/mrd/\n",
    "\n",
    "to view JSON data nicely in the Chrome browser install the extension JSONview"
   ]
  },
  {
   "cell_type": "code",
   "execution_count": null,
   "id": "52c440c6",
   "metadata": {},
   "outputs": [],
   "source": [
    "# Make sure to attach extension .json at the end of url\n",
    "\n",
    "url = 'http://ergast.com/api/f1/2008/5/driverStandings.json'\n"
   ]
  },
  {
   "attachments": {},
   "cell_type": "markdown",
   "id": "1f8dc8b3",
   "metadata": {},
   "source": [
    "### using the request package to access data from api/url"
   ]
  },
  {
   "cell_type": "code",
   "execution_count": null,
   "id": "f60c1b4a",
   "metadata": {},
   "outputs": [],
   "source": [
    "response = requests.get(url)"
   ]
  },
  {
   "attachments": {},
   "cell_type": "markdown",
   "id": "52f840a9",
   "metadata": {},
   "source": [
    "### checking and making sure we got a successful response from our API\n",
    "#### status codes: 200 = ok/successful, 400 = bad/unsuccessful"
   ]
  },
  {
   "cell_type": "code",
   "execution_count": null,
   "id": "7b63a204",
   "metadata": {},
   "outputs": [],
   "source": [
    "print(response)\n",
    "print(response.ok)\n",
    "print(response.status_code)"
   ]
  },
  {
   "attachments": {},
   "cell_type": "markdown",
   "id": "bc3fa89d",
   "metadata": {},
   "source": [
    "### view the response as a JSON with .json()"
   ]
  },
  {
   "cell_type": "code",
   "execution_count": null,
   "id": "ed4d3256",
   "metadata": {},
   "outputs": [],
   "source": [
    "print(response.json())"
   ]
  },
  {
   "attachments": {},
   "cell_type": "markdown",
   "id": "3b49045f",
   "metadata": {},
   "source": [
    "### Get the Driver Standings Data from JSON"
   ]
  },
  {
   "cell_type": "code",
   "execution_count": null,
   "id": "f074dfcf",
   "metadata": {},
   "outputs": [],
   "source": [
    "data = response.json()\n",
    "\n",
    "driver_standings = data['MRData']['StandingsTable']['StandingsLists'][0]['DriverStandings']\n",
    "\n",
    "print(driver_standings)"
   ]
  },
  {
   "attachments": {},
   "cell_type": "markdown",
   "id": "459823db",
   "metadata": {},
   "source": [
    "### Use a for loop to display all driver full names"
   ]
  },
  {
   "cell_type": "code",
   "execution_count": null,
   "id": "be46a950",
   "metadata": {},
   "outputs": [],
   "source": [
    "for driver in driver_standings:\n",
    "    print(f\"{driver['Driver']['givenName']} {driver['Driver']['familyName']}\")"
   ]
  },
  {
   "attachments": {},
   "cell_type": "markdown",
   "id": "43c20f0d",
   "metadata": {},
   "source": [
    "### Create a function getting certain driver info (givenName, familyName, dateOfBirth, wins, team)"
   ]
  },
  {
   "cell_type": "code",
   "execution_count": null,
   "id": "3740c752",
   "metadata": {},
   "outputs": [],
   "source": [
    "def getDriverInfo(driver):\n",
    "    driver_info = {\n",
    "        'first_name': driver['Driver']['givenName'],\n",
    "        'last_name': driver['Driver']['familyName'],\n",
    "        'DOB': driver['Driver']['dateOfBirth'],\n",
    "        'wins': driver['wins'],\n",
    "        'team': driver['Constructors'][0]['name']\n",
    "    }\n",
    "    return driver_info\n",
    "\n",
    "print(getDriverInfo(driver_standings[2]))"
   ]
  },
  {
   "attachments": {},
   "cell_type": "markdown",
   "id": "1a713b13",
   "metadata": {},
   "source": [
    "### Making a more flexible function to handle different years and rounds"
   ]
  },
  {
   "cell_type": "code",
   "execution_count": null,
   "id": "e9866280",
   "metadata": {},
   "outputs": [],
   "source": [
    "\n",
    "def driverInfoYearRound(year, rnd):\n",
    "    url = f'http://ergast.com/api/f1/{year}/{rnd}/driverStandings.json'\n",
    "    response = requests.get(url)\n",
    "    if response.ok:\n",
    "        data = response.json()\n",
    "        driver_standings = data['MRData']['StandingsTable']['StandingsLists'][0]['DriverStandings']\n",
    "        for driver in driver_standings:\n",
    "           driver_dict = getDriverInfo(driver)\n",
    "           print(f'{driver_dict[\"first_name\"]} {driver_dict[\"last_name\"]} was born {driver_dict[\"DOB\"]} and was racing for {driver_dict[\"team\"]} and had {driver_dict[\"wins\"]} wins during the {year} season during round {rnd}.')\n",
    "    else: print(f'{response.status_code}')\n",
    "\n",
    "driverInfoYearRound(2022, 8)"
   ]
  },
  {
   "cell_type": "markdown",
   "id": "6d546014",
   "metadata": {},
   "source": [
    "# <strong>Homework</strong>\n",
    "\n",
    "check out this Pokemon API: https://pokeapi.co/ <br>\n",
    "\n",
    "Write a function that takes in a pokemon's name or id and returns dictionary that includes the pokemons: name, one ability, base_experience, and a URL for a sprite image<br>\n",
    "\n",
    "Use this function to get the info of 5 pokemon"
   ]
  },
  {
   "cell_type": "code",
   "execution_count": null,
   "id": "5a9081e3",
   "metadata": {},
   "outputs": [],
   "source": [
    "def pokegrabber(pokemon=''):\n",
    "    import requests\n",
    "    if pokemon == '':\n",
    "        pokemon = input(\"You didn't enter a pokemon. What pokemon (name or ID) would you like to look up? Just type RANDOM if you're unsure.\").lower()\n",
    "        if pokemon == 'random':\n",
    "            from random import randint\n",
    "            pokemon = randint(1,1025)\n",
    "    elif pokemon == 'random':\n",
    "        from random import randint\n",
    "        pokemon = randint(1,1025)\n",
    "    url = f'https://pokeapi.co/api/v2/pokemon/{pokemon}'\n",
    "    response = requests.get(url)\n",
    "    if response.ok:\n",
    "        data = response.json()\n",
    "        pokedict = {\n",
    "            'name': data['forms'][0]['name'],\n",
    "            'ability1': data['abilities'][0],\n",
    "            'base_exp': data['base_experience'],\n",
    "            'sprite_url': data['sprites']['other']['official-artwork']['front_default']\n",
    "        }\n",
    "        if pokedict['base_exp'] == None: print(f\"{pokedict['name'].title()} does not start with any base experience. Their first ability is {pokedict['ability1']['ability']['name'].replace('-', ' ').title()} and their official artwork can be found at ({pokedict['sprite_url']}).\")\n",
    "        else: print(f\"{pokedict['name'].title()} starts with {pokedict['base_exp']} base experience. Their first ability is {pokedict['ability1']['ability']['name'].replace('-', ' ').title()} and their official artwork can be found at ({pokedict['sprite_url']}).\")\n",
    "        return pokedict\n",
    "    else: print(f'{response.status_code} error code.')\n",
    "\n",
    "pokegrabber('')\n",
    "pokegrabber('random')\n",
    "pokegrabber('random')\n",
    "pokegrabber('random')\n",
    "pokegrabber('random')\n",
    "\n"
   ]
  }
 ],
 "metadata": {
  "kernelspec": {
   "display_name": "Python 3.10.8 64-bit (microsoft store)",
   "language": "python",
   "name": "python3"
  },
  "language_info": {
   "codemirror_mode": {
    "name": "ipython",
    "version": 3
   },
   "file_extension": ".py",
   "mimetype": "text/x-python",
   "name": "python",
   "nbconvert_exporter": "python",
   "pygments_lexer": "ipython3",
   "version": "3.11.5"
  },
  "vscode": {
   "interpreter": {
    "hash": "aa82987a71ca0339a52998cd22613b0c002bda8349fa32a0cb67ceec3936a2bf"
   }
  }
 },
 "nbformat": 4,
 "nbformat_minor": 5
}
